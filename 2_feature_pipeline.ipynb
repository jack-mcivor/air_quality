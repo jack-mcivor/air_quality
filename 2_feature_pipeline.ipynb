{
 "cells": [
  {
   "attachments": {},
   "cell_type": "markdown",
   "id": "dd094af7",
   "metadata": {},
   "source": [
    "# <span style=\"font-width:bold; font-size: 3rem; color:#1EB182;\"><img src=\"../../images/icon102.png\" width=\"38px\"></img> **Hopsworks Feature Store** </span><span style=\"font-width:bold; font-size: 3rem; color:#333;\">- Part 02: Feature Pipeline</span>\n",
    "\n",
    "[![Open In Colab](https://colab.research.google.com/assets/colab-badge.svg)](https://colab.research.google.com/github/logicalclocks/hopsworks-tutorials/blob/master/advanced_tutorials/air_quality/2_feature_pipeline.ipynb)\n",
    "\n",
    "\n",
    "## 🗒️ This notebook is divided into the following sections:\n",
    "1. Parse Data\n",
    "2. Feature Group Insertion"
   ]
  },
  {
   "attachments": {},
   "cell_type": "markdown",
   "id": "a7dcc328",
   "metadata": {},
   "source": [
    "### <span style='color:#ff5f27'> 📝 Imports"
   ]
  },
  {
   "cell_type": "code",
   "execution_count": 2,
   "id": "364e961e",
   "metadata": {},
   "outputs": [],
   "source": [
    "import datetime\n",
    "import time\n",
    "import requests\n",
    "import pandas as pd\n",
    "import json\n",
    "\n",
    "from functions import *\n",
    "\n",
    "import warnings\n",
    "warnings.filterwarnings(\"ignore\")"
   ]
  },
  {
   "cell_type": "code",
   "execution_count": 3,
   "id": "50d04cc5-6788-4a4c-9f87-c2e00b5fce49",
   "metadata": {
    "tags": []
   },
   "outputs": [],
   "source": [
    "with open('target_cities.json') as json_file:\n",
    "    target_cities = json.load(json_file)"
   ]
  },
  {
   "cell_type": "code",
   "execution_count": 4,
   "id": "b0d2261f-8907-44f4-9f1a-bd9ec5e1556f",
   "metadata": {
    "tags": []
   },
   "outputs": [],
   "source": [
    "today = datetime.date.today()\n",
    "forecast_day = today + datetime.timedelta(days=7)\n",
    "hindcast_day = today - datetime.timedelta(days=10)"
   ]
  },
  {
   "attachments": {},
   "cell_type": "markdown",
   "id": "c7f61053-a8c0-48a7-afa4-0e8733d2a54a",
   "metadata": {},
   "source": [
    "---"
   ]
  },
  {
   "attachments": {},
   "cell_type": "markdown",
   "id": "459ee37e-7e74-4051-97f6-2e03f9cac9d8",
   "metadata": {},
   "source": [
    "## <span style='color:#ff5f27'> 🌫 Filling gaps in Air Quality data (PM2.5)</span>"
   ]
  },
  {
   "attachments": {},
   "cell_type": "markdown",
   "id": "ecfb9f24-86ad-4614-a94b-32f17f10c1cc",
   "metadata": {},
   "source": [
    "### First time we will determine the 'last update date' using our backfill data\n",
    "#### Next time we will use `feature view` method from Hopsworks Feature Store"
   ]
  },
  {
   "attachments": {},
   "cell_type": "markdown",
   "id": "77c4ee8d-7f7e-4bd0-a97b-c3ac0d7db50f",
   "metadata": {},
   "source": [
    "### <span style='color:#ff5f27'>  🧙🏼‍♂️ Parsing PM2.5 data"
   ]
  },
  {
   "cell_type": "code",
   "execution_count": 5,
   "id": "112a7974-37cb-4195-bc71-328af428c491",
   "metadata": {
    "scrolled": true,
    "tags": []
   },
   "outputs": [
    {
     "name": "stdout",
     "output_type": "stream",
     "text": [
      "Processed PM2_5 for Amsterdam since 2023-05-23 till 2023-06-02.\n",
      "Took 0.2 sec.\n",
      "\n",
      "Processed PM2_5 for Athina since 2023-05-23 till 2023-06-02.\n",
      "Took 0.16 sec.\n",
      "\n",
      "Processed PM2_5 for Berlin since 2023-05-23 till 2023-06-02.\n",
      "Took 0.16 sec.\n",
      "\n",
      "Processed PM2_5 for Gdansk since 2023-05-23 till 2023-06-02.\n",
      "Took 0.15 sec.\n",
      "\n",
      "Processed PM2_5 for Kraków since 2023-05-23 till 2023-06-02.\n",
      "Took 0.19 sec.\n",
      "\n",
      "Processed PM2_5 for London since 2023-05-23 till 2023-06-02.\n",
      "Took 0.19 sec.\n",
      "\n",
      "Processed PM2_5 for Madrid since 2023-05-23 till 2023-06-02.\n",
      "Took 0.17 sec.\n",
      "\n",
      "Processed PM2_5 for Marseille since 2023-05-23 till 2023-06-02.\n",
      "Took 0.17 sec.\n",
      "\n",
      "Processed PM2_5 for Milano since 2023-05-23 till 2023-06-02.\n",
      "Took 0.15 sec.\n",
      "\n",
      "Processed PM2_5 for München since 2023-05-23 till 2023-06-02.\n",
      "Took 0.17 sec.\n",
      "\n",
      "Processed PM2_5 for Napoli since 2023-05-23 till 2023-06-02.\n",
      "Took 0.18 sec.\n",
      "\n",
      "Processed PM2_5 for Paris since 2023-05-23 till 2023-06-02.\n",
      "Took 0.18 sec.\n",
      "\n",
      "Processed PM2_5 for Sevilla since 2023-05-23 till 2023-06-02.\n",
      "Took 0.17 sec.\n",
      "\n",
      "Processed PM2_5 for Stockholm since 2023-05-23 till 2023-06-02.\n",
      "Took 0.16 sec.\n",
      "\n",
      "Processed PM2_5 for Tallinn since 2023-05-23 till 2023-06-02.\n",
      "Took 0.18 sec.\n",
      "\n",
      "Processed PM2_5 for Varna since 2023-05-23 till 2023-06-02.\n",
      "Took 0.17 sec.\n",
      "\n",
      "Processed PM2_5 for Wien since 2023-05-23 till 2023-06-02.\n",
      "Took 5.17 sec.\n",
      "\n",
      "Processed PM2_5 for Albuquerque since 2023-05-23 till 2023-06-02.\n",
      "Took 0.18 sec.\n",
      "\n",
      "Processed PM2_5 for Atlanta since 2023-05-23 till 2023-06-02.\n",
      "Took 0.21 sec.\n",
      "\n",
      "Processed PM2_5 for Chicago since 2023-05-23 till 2023-06-02.\n",
      "Took 0.19 sec.\n",
      "\n",
      "Processed PM2_5 for Columbus since 2023-05-23 till 2023-06-02.\n",
      "Took 0.18 sec.\n",
      "\n",
      "Processed PM2_5 for Dallas since 2023-05-23 till 2023-06-02.\n",
      "Took 0.16 sec.\n",
      "\n",
      "Processed PM2_5 for Denver since 2023-05-23 till 2023-06-02.\n",
      "Took 0.17 sec.\n",
      "\n",
      "Processed PM2_5 for Houston since 2023-05-23 till 2023-06-02.\n",
      "Took 0.19 sec.\n",
      "\n",
      "Processed PM2_5 for Los Angeles since 2023-05-23 till 2023-06-02.\n",
      "Took 0.15 sec.\n",
      "\n",
      "Processed PM2_5 for New York since 2023-05-23 till 2023-06-02.\n",
      "Took 0.16 sec.\n",
      "\n",
      "Processed PM2_5 for Phoenix-Mesa since 2023-05-23 till 2023-06-02.\n",
      "Took 0.2 sec.\n",
      "\n",
      "Processed PM2_5 for Salt Lake City since 2023-05-23 till 2023-06-02.\n",
      "Took 0.4 sec.\n",
      "\n",
      "Processed PM2_5 for San Francisco since 2023-05-23 till 2023-06-02.\n",
      "Took 0.22 sec.\n",
      "\n",
      "Processed PM2_5 for Tampa since 2023-05-23 till 2023-06-02.\n",
      "Took 1.26 sec.\n",
      "\n",
      "Processed PM2_5 for Bellevue-SE 12th St since 2023-05-23 till 2023-06-02.\n",
      "Took 0.15 sec.\n",
      "\n",
      "Processed PM2_5 for DARRINGTON - FIR ST (Darrington High School) since 2023-05-23 till 2023-06-02.\n",
      "Took 0.19 sec.\n",
      "\n",
      "Processed PM2_5 for KENT - JAMES & CENTRAL since 2023-05-23 till 2023-06-02.\n",
      "Took 0.24 sec.\n",
      "\n",
      "Processed PM2_5 for LAKE FOREST PARK TOWNE CENTER since 2023-05-23 till 2023-06-02.\n",
      "Took 0.19 sec.\n",
      "\n",
      "Processed PM2_5 for MARYSVILLE - 7TH AVE (Marysville Junior High) since 2023-05-23 till 2023-06-02.\n",
      "Took 0.24 sec.\n",
      "\n",
      "Processed PM2_5 for NORTH BEND - NORTH BEND WAY since 2023-05-23 till 2023-06-02.\n",
      "Took 0.21 sec.\n",
      "\n",
      "Processed PM2_5 for SEATTLE - BEACON HILL since 2023-05-23 till 2023-06-02.\n",
      "Took 0.2 sec.\n",
      "\n",
      "Processed PM2_5 for SEATTLE - DUWAMISH since 2023-05-23 till 2023-06-02.\n",
      "Took 0.19 sec.\n",
      "\n",
      "Processed PM2_5 for SEATTLE - SOUTH PARK #2 since 2023-05-23 till 2023-06-02.\n",
      "Took 0.16 sec.\n",
      "\n",
      "Processed PM2_5 for Seattle-10th & Weller since 2023-05-23 till 2023-06-02.\n",
      "Took 0.2 sec.\n",
      "\n",
      "Processed PM2_5 for TACOMA - ALEXANDER AVE since 2023-05-23 till 2023-06-02.\n",
      "Took 0.21 sec.\n",
      "\n",
      "Processed PM2_5 for TACOMA - L STREET since 2023-05-23 till 2023-06-02.\n",
      "Took 0.17 sec.\n",
      "\n",
      "Processed PM2_5 for Tacoma-S 36th St since 2023-05-23 till 2023-06-02.\n",
      "Took 0.21 sec.\n",
      "\n",
      "Processed PM2_5 for Tukwila Allentown since 2023-05-23 till 2023-06-02.\n",
      "Took 0.19 sec.\n",
      "\n",
      "Processed PM2_5 for Tulalip-Totem Beach Rd since 2023-05-23 till 2023-06-02.\n",
      "Took 0.53 sec.\n",
      "\n",
      "----------------------------------------------------------------\n",
      "Parsed new PM2.5 data for ALL locations up to 2023-06-02.\n",
      "Took 14.96 sec.\n",
      "\n"
     ]
    }
   ],
   "source": [
    "start_of_cell = time.time()\n",
    "\n",
    "df_aq_raw = pd.DataFrame()\n",
    "\n",
    "for continent in target_cities:\n",
    "    for city_name, coords in target_cities[continent].items():\n",
    "        df_ = get_aqi_data_from_open_meteo(city_name=city_name,\n",
    "                                           coordinates=coords,\n",
    "                                           start_date=str(hindcast_day),\n",
    "                                           end_date=str(today))\n",
    "        df_aq_raw = pd.concat([df_aq_raw, df_]).reset_index(drop=True)\n",
    "    \n",
    "end_of_cell = time.time()\n",
    "print(\"-\" * 64)\n",
    "print(f\"Parsed new PM2.5 data for ALL locations up to {str(today)}.\")\n",
    "print(f\"Took {round(end_of_cell - start_of_cell, 2)} sec.\\n\")"
   ]
  },
  {
   "cell_type": "code",
   "execution_count": 6,
   "id": "2ec50ff1",
   "metadata": {},
   "outputs": [
    {
     "data": {
      "text/html": [
       "<div>\n",
       "<style scoped>\n",
       "    .dataframe tbody tr th:only-of-type {\n",
       "        vertical-align: middle;\n",
       "    }\n",
       "\n",
       "    .dataframe tbody tr th {\n",
       "        vertical-align: top;\n",
       "    }\n",
       "\n",
       "    .dataframe thead th {\n",
       "        text-align: right;\n",
       "    }\n",
       "</style>\n",
       "<table border=\"1\" class=\"dataframe\">\n",
       "  <thead>\n",
       "    <tr style=\"text-align: right;\">\n",
       "      <th></th>\n",
       "      <th>city_name</th>\n",
       "      <th>date</th>\n",
       "      <th>pm2_5</th>\n",
       "    </tr>\n",
       "  </thead>\n",
       "  <tbody>\n",
       "    <tr>\n",
       "      <th>0</th>\n",
       "      <td>Amsterdam</td>\n",
       "      <td>2023-05-23</td>\n",
       "      <td>7.7</td>\n",
       "    </tr>\n",
       "    <tr>\n",
       "      <th>1</th>\n",
       "      <td>Amsterdam</td>\n",
       "      <td>2023-05-24</td>\n",
       "      <td>10.1</td>\n",
       "    </tr>\n",
       "    <tr>\n",
       "      <th>2</th>\n",
       "      <td>Amsterdam</td>\n",
       "      <td>2023-05-25</td>\n",
       "      <td>9.6</td>\n",
       "    </tr>\n",
       "    <tr>\n",
       "      <th>3</th>\n",
       "      <td>Amsterdam</td>\n",
       "      <td>2023-05-26</td>\n",
       "      <td>7.6</td>\n",
       "    </tr>\n",
       "    <tr>\n",
       "      <th>4</th>\n",
       "      <td>Amsterdam</td>\n",
       "      <td>2023-05-27</td>\n",
       "      <td>11.6</td>\n",
       "    </tr>\n",
       "    <tr>\n",
       "      <th>...</th>\n",
       "      <td>...</td>\n",
       "      <td>...</td>\n",
       "      <td>...</td>\n",
       "    </tr>\n",
       "    <tr>\n",
       "      <th>490</th>\n",
       "      <td>Tulalip-Totem Beach Rd</td>\n",
       "      <td>2023-05-29</td>\n",
       "      <td>12.2</td>\n",
       "    </tr>\n",
       "    <tr>\n",
       "      <th>491</th>\n",
       "      <td>Tulalip-Totem Beach Rd</td>\n",
       "      <td>2023-05-30</td>\n",
       "      <td>9.5</td>\n",
       "    </tr>\n",
       "    <tr>\n",
       "      <th>492</th>\n",
       "      <td>Tulalip-Totem Beach Rd</td>\n",
       "      <td>2023-05-31</td>\n",
       "      <td>6.0</td>\n",
       "    </tr>\n",
       "    <tr>\n",
       "      <th>493</th>\n",
       "      <td>Tulalip-Totem Beach Rd</td>\n",
       "      <td>2023-06-01</td>\n",
       "      <td>5.5</td>\n",
       "    </tr>\n",
       "    <tr>\n",
       "      <th>494</th>\n",
       "      <td>Tulalip-Totem Beach Rd</td>\n",
       "      <td>2023-06-02</td>\n",
       "      <td>12.2</td>\n",
       "    </tr>\n",
       "  </tbody>\n",
       "</table>\n",
       "<p>495 rows × 3 columns</p>\n",
       "</div>"
      ],
      "text/plain": [
       "                  city_name        date  pm2_5\n",
       "0                 Amsterdam  2023-05-23    7.7\n",
       "1                 Amsterdam  2023-05-24   10.1\n",
       "2                 Amsterdam  2023-05-25    9.6\n",
       "3                 Amsterdam  2023-05-26    7.6\n",
       "4                 Amsterdam  2023-05-27   11.6\n",
       "..                      ...         ...    ...\n",
       "490  Tulalip-Totem Beach Rd  2023-05-29   12.2\n",
       "491  Tulalip-Totem Beach Rd  2023-05-30    9.5\n",
       "492  Tulalip-Totem Beach Rd  2023-05-31    6.0\n",
       "493  Tulalip-Totem Beach Rd  2023-06-01    5.5\n",
       "494  Tulalip-Totem Beach Rd  2023-06-02   12.2\n",
       "\n",
       "[495 rows x 3 columns]"
      ]
     },
     "execution_count": 6,
     "metadata": {},
     "output_type": "execute_result"
    }
   ],
   "source": [
    "df_aq_raw"
   ]
  },
  {
   "cell_type": "code",
   "execution_count": 7,
   "id": "e830f1b9-f596-45e0-9285-e996d7df9d05",
   "metadata": {
    "tags": []
   },
   "outputs": [
    {
     "data": {
      "text/html": [
       "<div>\n",
       "<style scoped>\n",
       "    .dataframe tbody tr th:only-of-type {\n",
       "        vertical-align: middle;\n",
       "    }\n",
       "\n",
       "    .dataframe tbody tr th {\n",
       "        vertical-align: top;\n",
       "    }\n",
       "\n",
       "    .dataframe thead th {\n",
       "        text-align: right;\n",
       "    }\n",
       "</style>\n",
       "<table border=\"1\" class=\"dataframe\">\n",
       "  <thead>\n",
       "    <tr style=\"text-align: right;\">\n",
       "      <th></th>\n",
       "      <th>city_name</th>\n",
       "      <th>date</th>\n",
       "      <th>pm2_5</th>\n",
       "    </tr>\n",
       "  </thead>\n",
       "  <tbody>\n",
       "    <tr>\n",
       "      <th>0</th>\n",
       "      <td>Amsterdam</td>\n",
       "      <td>2023-05-23</td>\n",
       "      <td>7.7</td>\n",
       "    </tr>\n",
       "    <tr>\n",
       "      <th>1</th>\n",
       "      <td>Amsterdam</td>\n",
       "      <td>2023-05-24</td>\n",
       "      <td>10.1</td>\n",
       "    </tr>\n",
       "    <tr>\n",
       "      <th>2</th>\n",
       "      <td>Amsterdam</td>\n",
       "      <td>2023-05-25</td>\n",
       "      <td>9.6</td>\n",
       "    </tr>\n",
       "    <tr>\n",
       "      <th>3</th>\n",
       "      <td>Amsterdam</td>\n",
       "      <td>2023-05-26</td>\n",
       "      <td>7.6</td>\n",
       "    </tr>\n",
       "    <tr>\n",
       "      <th>4</th>\n",
       "      <td>Amsterdam</td>\n",
       "      <td>2023-05-27</td>\n",
       "      <td>11.6</td>\n",
       "    </tr>\n",
       "    <tr>\n",
       "      <th>...</th>\n",
       "      <td>...</td>\n",
       "      <td>...</td>\n",
       "      <td>...</td>\n",
       "    </tr>\n",
       "    <tr>\n",
       "      <th>490</th>\n",
       "      <td>Tulalip-Totem Beach Rd</td>\n",
       "      <td>2023-05-29</td>\n",
       "      <td>12.2</td>\n",
       "    </tr>\n",
       "    <tr>\n",
       "      <th>491</th>\n",
       "      <td>Tulalip-Totem Beach Rd</td>\n",
       "      <td>2023-05-30</td>\n",
       "      <td>9.5</td>\n",
       "    </tr>\n",
       "    <tr>\n",
       "      <th>492</th>\n",
       "      <td>Tulalip-Totem Beach Rd</td>\n",
       "      <td>2023-05-31</td>\n",
       "      <td>6.0</td>\n",
       "    </tr>\n",
       "    <tr>\n",
       "      <th>493</th>\n",
       "      <td>Tulalip-Totem Beach Rd</td>\n",
       "      <td>2023-06-01</td>\n",
       "      <td>5.5</td>\n",
       "    </tr>\n",
       "    <tr>\n",
       "      <th>494</th>\n",
       "      <td>Tulalip-Totem Beach Rd</td>\n",
       "      <td>2023-06-02</td>\n",
       "      <td>12.2</td>\n",
       "    </tr>\n",
       "  </tbody>\n",
       "</table>\n",
       "<p>495 rows × 3 columns</p>\n",
       "</div>"
      ],
      "text/plain": [
       "                  city_name        date  pm2_5\n",
       "0                 Amsterdam  2023-05-23    7.7\n",
       "1                 Amsterdam  2023-05-24   10.1\n",
       "2                 Amsterdam  2023-05-25    9.6\n",
       "3                 Amsterdam  2023-05-26    7.6\n",
       "4                 Amsterdam  2023-05-27   11.6\n",
       "..                      ...         ...    ...\n",
       "490  Tulalip-Totem Beach Rd  2023-05-29   12.2\n",
       "491  Tulalip-Totem Beach Rd  2023-05-30    9.5\n",
       "492  Tulalip-Totem Beach Rd  2023-05-31    6.0\n",
       "493  Tulalip-Totem Beach Rd  2023-06-01    5.5\n",
       "494  Tulalip-Totem Beach Rd  2023-06-02   12.2\n",
       "\n",
       "[495 rows x 3 columns]"
      ]
     },
     "execution_count": 7,
     "metadata": {},
     "output_type": "execute_result"
    }
   ],
   "source": [
    "df_aq_update = df_aq_raw\n",
    "df_aq_update"
   ]
  },
  {
   "attachments": {},
   "cell_type": "markdown",
   "id": "250d9daf-83fa-49f1-bcd8-4efaeb90b99c",
   "metadata": {
    "tags": []
   },
   "source": [
    "### <span style=\"color:#ff5f27;\">🛠 Feature Engineering PM2.5</span>"
   ]
  },
  {
   "cell_type": "code",
   "execution_count": 8,
   "id": "140b468a-e0c2-44a1-8e44-4cf393407eca",
   "metadata": {
    "tags": []
   },
   "outputs": [],
   "source": [
    "df_aq_update['date'] = pd.to_datetime(df_aq_update['date'])"
   ]
  },
  {
   "cell_type": "code",
   "execution_count": 9,
   "id": "acc181a9-6183-45ec-aed2-8ee684e13b39",
   "metadata": {
    "tags": []
   },
   "outputs": [],
   "source": [
    "# df_aq_update = feature_engineer_aq(df_aq_update)\n",
    "df_aq_update = df_aq_update.dropna()"
   ]
  },
  {
   "cell_type": "code",
   "execution_count": 10,
   "id": "131d1e58-7d12-4cd8-a24e-ffcc8eaa7c20",
   "metadata": {
    "tags": []
   },
   "outputs": [
    {
     "data": {
      "text/plain": [
       "0"
      ]
     },
     "execution_count": 10,
     "metadata": {},
     "output_type": "execute_result"
    }
   ],
   "source": [
    "df_aq_update.isna().sum().sum()"
   ]
  },
  {
   "cell_type": "code",
   "execution_count": 11,
   "id": "94f67c89-6b39-4748-b4be-6ed3c9d57f96",
   "metadata": {
    "tags": []
   },
   "outputs": [
    {
     "data": {
      "text/plain": [
       "(495, 3)"
      ]
     },
     "execution_count": 11,
     "metadata": {},
     "output_type": "execute_result"
    }
   ],
   "source": [
    "df_aq_update.shape"
   ]
  },
  {
   "cell_type": "code",
   "execution_count": 12,
   "id": "ed9bc7f1-d62e-4b1f-97af-6ecd30fe4b67",
   "metadata": {
    "tags": []
   },
   "outputs": [
    {
     "data": {
      "text/plain": [
       "Index(['city_name', 'date', 'pm2_5'], dtype='object')"
      ]
     },
     "execution_count": 12,
     "metadata": {},
     "output_type": "execute_result"
    }
   ],
   "source": [
    "df_aq_update.columns"
   ]
  },
  {
   "attachments": {},
   "cell_type": "markdown",
   "id": "d74f5622-6f57-47b9-ac0b-dfb6617847b2",
   "metadata": {},
   "source": [
    "---"
   ]
  },
  {
   "attachments": {},
   "cell_type": "markdown",
   "id": "1fd15812-a3a9-488c-879e-181c7b815357",
   "metadata": {
    "tags": []
   },
   "source": [
    "### <span style='color:#ff5f27'>  🧙🏼‍♂️ Parsing Weather data"
   ]
  },
  {
   "cell_type": "code",
   "execution_count": 13,
   "id": "ef027d28-3443-4c7c-9e85-783625301a14",
   "metadata": {
    "scrolled": true,
    "tags": []
   },
   "outputs": [
    {
     "name": "stdout",
     "output_type": "stream",
     "text": [
      "Parsed weather for Albuquerque since 2023-06-02 till 2023-06-09.\n",
      "Took 0.18 sec.\n",
      "\n",
      "Parsed weather for Atlanta since 2023-06-02 till 2023-06-09.\n",
      "Took 0.21 sec.\n",
      "\n",
      "Parsed weather for Chicago since 2023-06-02 till 2023-06-09.\n",
      "Took 0.18 sec.\n",
      "\n",
      "Parsed weather for Columbus since 2023-06-02 till 2023-06-09.\n",
      "Took 0.16 sec.\n",
      "\n",
      "Parsed weather for Dallas since 2023-06-02 till 2023-06-09.\n",
      "Took 0.46 sec.\n",
      "\n",
      "Parsed weather for Denver since 2023-06-02 till 2023-06-09.\n",
      "Took 0.16 sec.\n",
      "\n",
      "Parsed weather for Houston since 2023-06-02 till 2023-06-09.\n",
      "Took 0.18 sec.\n",
      "\n",
      "Parsed weather for Los Angeles since 2023-06-02 till 2023-06-09.\n",
      "Took 0.16 sec.\n",
      "\n",
      "Parsed weather for New York since 2023-06-02 till 2023-06-09.\n",
      "Took 0.16 sec.\n",
      "\n",
      "Parsed weather for Phoenix-Mesa since 2023-06-02 till 2023-06-09.\n",
      "Took 0.17 sec.\n",
      "\n",
      "Parsed weather for Salt Lake City since 2023-06-02 till 2023-06-09.\n",
      "Took 0.17 sec.\n",
      "\n",
      "Parsed weather for San Francisco since 2023-06-02 till 2023-06-09.\n",
      "Took 0.13 sec.\n",
      "\n",
      "Parsed weather for Tampa since 2023-06-02 till 2023-06-09.\n",
      "Took 0.2 sec.\n",
      "\n",
      "Parsed weather for Amsterdam since 2023-06-02 till 2023-06-09.\n",
      "Took 0.15 sec.\n",
      "\n",
      "Parsed weather for Athina since 2023-06-02 till 2023-06-09.\n",
      "Took 0.21 sec.\n",
      "\n",
      "Parsed weather for Berlin since 2023-06-02 till 2023-06-09.\n",
      "Took 0.43 sec.\n",
      "\n",
      "Parsed weather for Gdansk since 2023-06-02 till 2023-06-09.\n",
      "Took 0.17 sec.\n",
      "\n",
      "Parsed weather for Kraków since 2023-06-02 till 2023-06-09.\n",
      "Took 0.13 sec.\n",
      "\n",
      "Parsed weather for London since 2023-06-02 till 2023-06-09.\n",
      "Took 0.19 sec.\n",
      "\n",
      "Parsed weather for Madrid since 2023-06-02 till 2023-06-09.\n",
      "Took 0.2 sec.\n",
      "\n",
      "Parsed weather for Marseille since 2023-06-02 till 2023-06-09.\n",
      "Took 0.28 sec.\n",
      "\n",
      "Parsed weather for Milano since 2023-06-02 till 2023-06-09.\n",
      "Took 0.21 sec.\n",
      "\n",
      "Parsed weather for München since 2023-06-02 till 2023-06-09.\n",
      "Took 0.14 sec.\n",
      "\n",
      "Parsed weather for Napoli since 2023-06-02 till 2023-06-09.\n",
      "Took 0.62 sec.\n",
      "\n",
      "Parsed weather for Paris since 2023-06-02 till 2023-06-09.\n",
      "Took 0.18 sec.\n",
      "\n",
      "Parsed weather for Sevilla since 2023-06-02 till 2023-06-09.\n",
      "Took 0.4 sec.\n",
      "\n",
      "Parsed weather for Stockholm since 2023-06-02 till 2023-06-09.\n",
      "Took 0.18 sec.\n",
      "\n",
      "Parsed weather for Tallinn since 2023-06-02 till 2023-06-09.\n",
      "Took 5.21 sec.\n",
      "\n",
      "Parsed weather for Varna since 2023-06-02 till 2023-06-09.\n",
      "Took 0.2 sec.\n",
      "\n",
      "Parsed weather for Wien since 2023-06-02 till 2023-06-09.\n",
      "Took 0.18 sec.\n",
      "\n",
      "Parsed weather for Albuquerque since 2023-06-02 till 2023-06-09.\n",
      "Took 0.19 sec.\n",
      "\n",
      "Parsed weather for Atlanta since 2023-06-02 till 2023-06-09.\n",
      "Took 0.19 sec.\n",
      "\n",
      "Parsed weather for Chicago since 2023-06-02 till 2023-06-09.\n",
      "Took 0.16 sec.\n",
      "\n",
      "Parsed weather for Columbus since 2023-06-02 till 2023-06-09.\n",
      "Took 0.15 sec.\n",
      "\n",
      "Parsed weather for Dallas since 2023-06-02 till 2023-06-09.\n",
      "Took 0.74 sec.\n",
      "\n",
      "Parsed weather for Denver since 2023-06-02 till 2023-06-09.\n",
      "Took 0.15 sec.\n",
      "\n",
      "Parsed weather for Houston since 2023-06-02 till 2023-06-09.\n",
      "Took 0.14 sec.\n",
      "\n",
      "Parsed weather for Los Angeles since 2023-06-02 till 2023-06-09.\n",
      "Took 0.16 sec.\n",
      "\n",
      "Parsed weather for New York since 2023-06-02 till 2023-06-09.\n",
      "Took 0.16 sec.\n",
      "\n",
      "Parsed weather for Phoenix-Mesa since 2023-06-02 till 2023-06-09.\n",
      "Took 0.16 sec.\n",
      "\n",
      "Parsed weather for Salt Lake City since 2023-06-02 till 2023-06-09.\n",
      "Took 0.14 sec.\n",
      "\n",
      "Parsed weather for San Francisco since 2023-06-02 till 2023-06-09.\n",
      "Took 0.2 sec.\n",
      "\n",
      "Parsed weather for Tampa since 2023-06-02 till 2023-06-09.\n",
      "Took 1.31 sec.\n",
      "\n",
      "Parsed weather for Bellevue-SE 12th St since 2023-06-02 till 2023-06-09.\n",
      "Took 0.15 sec.\n",
      "\n",
      "Parsed weather for DARRINGTON - FIR ST (Darrington High School) since 2023-06-02 till 2023-06-09.\n",
      "Took 0.17 sec.\n",
      "\n",
      "Parsed weather for KENT - JAMES & CENTRAL since 2023-06-02 till 2023-06-09.\n",
      "Took 0.19 sec.\n",
      "\n",
      "Parsed weather for LAKE FOREST PARK TOWNE CENTER since 2023-06-02 till 2023-06-09.\n",
      "Took 0.16 sec.\n",
      "\n",
      "Parsed weather for MARYSVILLE - 7TH AVE (Marysville Junior High) since 2023-06-02 till 2023-06-09.\n",
      "Took 0.19 sec.\n",
      "\n",
      "Parsed weather for NORTH BEND - NORTH BEND WAY since 2023-06-02 till 2023-06-09.\n",
      "Took 0.15 sec.\n",
      "\n",
      "Parsed weather for SEATTLE - BEACON HILL since 2023-06-02 till 2023-06-09.\n",
      "Took 0.14 sec.\n",
      "\n",
      "Parsed weather for SEATTLE - DUWAMISH since 2023-06-02 till 2023-06-09.\n",
      "Took 0.18 sec.\n",
      "\n",
      "Parsed weather for SEATTLE - SOUTH PARK #2 since 2023-06-02 till 2023-06-09.\n",
      "Took 0.2 sec.\n",
      "\n",
      "Parsed weather for Seattle-10th & Weller since 2023-06-02 till 2023-06-09.\n",
      "Took 0.22 sec.\n",
      "\n",
      "Parsed weather for TACOMA - ALEXANDER AVE since 2023-06-02 till 2023-06-09.\n",
      "Took 0.25 sec.\n",
      "\n",
      "Parsed weather for TACOMA - L STREET since 2023-06-02 till 2023-06-09.\n",
      "Took 0.18 sec.\n",
      "\n",
      "Parsed weather for Tacoma-S 36th St since 2023-06-02 till 2023-06-09.\n",
      "Took 0.17 sec.\n",
      "\n",
      "Parsed weather for Tukwila Allentown since 2023-06-02 till 2023-06-09.\n",
      "Took 0.16 sec.\n",
      "\n",
      "Parsed weather for Tulalip-Totem Beach Rd since 2023-06-02 till 2023-06-09.\n",
      "Took 0.19 sec.\n",
      "\n",
      "----------------------------------------------------------------\n",
      "Parsed new weather data for ALL cities up to 2023-06-02.\n",
      "Took 18.3 sec.\n",
      "\n"
     ]
    }
   ],
   "source": [
    "start_of_cell = time.time()\n",
    "\n",
    "df_weather_update = pd.DataFrame()\n",
    "\n",
    "\n",
    "for city_name, coords in target_cities[\"US\"].items():\n",
    "    df_ = get_weather_data_from_open_meteo(city_name=city_name,\n",
    "                                           coordinates=coords,\n",
    "                                           start_date=str(today),\n",
    "                                           end_date=str(forecast_day),\n",
    "                                           forecast=True)\n",
    "    df_weather_update = pd.concat([df_weather_update, df_]).reset_index(drop=True)\n",
    "\n",
    "\n",
    "for continent in target_cities:\n",
    "    for city_name, coords in target_cities[continent].items():\n",
    "        df_ = get_weather_data_from_open_meteo(city_name=city_name,\n",
    "                                               coordinates=coords,\n",
    "                                               start_date=str(today),\n",
    "                                               end_date=str(forecast_day),\n",
    "                                               forecast=True)\n",
    "        df_weather_update = pd.concat([df_weather_update, df_]).reset_index(drop=True)\n",
    "    \n",
    "end_of_cell = time.time()\n",
    "print(\"-\" * 64)\n",
    "print(f\"Parsed new weather data for ALL cities up to {str(today)}.\")\n",
    "print(f\"Took {round(end_of_cell - start_of_cell, 2)} sec.\\n\")"
   ]
  },
  {
   "cell_type": "code",
   "execution_count": 14,
   "id": "df20173e",
   "metadata": {},
   "outputs": [
    {
     "data": {
      "text/html": [
       "<div>\n",
       "<style scoped>\n",
       "    .dataframe tbody tr th:only-of-type {\n",
       "        vertical-align: middle;\n",
       "    }\n",
       "\n",
       "    .dataframe tbody tr th {\n",
       "        vertical-align: top;\n",
       "    }\n",
       "\n",
       "    .dataframe thead th {\n",
       "        text-align: right;\n",
       "    }\n",
       "</style>\n",
       "<table border=\"1\" class=\"dataframe\">\n",
       "  <thead>\n",
       "    <tr style=\"text-align: right;\">\n",
       "      <th></th>\n",
       "      <th>city_name</th>\n",
       "      <th>date</th>\n",
       "      <th>temperature_max</th>\n",
       "      <th>temperature_min</th>\n",
       "      <th>precipitation_sum</th>\n",
       "      <th>rain_sum</th>\n",
       "      <th>snowfall_sum</th>\n",
       "      <th>precipitation_hours</th>\n",
       "      <th>wind_speed_max</th>\n",
       "      <th>wind_gusts_max</th>\n",
       "      <th>wind_direction_dominant</th>\n",
       "    </tr>\n",
       "  </thead>\n",
       "  <tbody>\n",
       "    <tr>\n",
       "      <th>0</th>\n",
       "      <td>Albuquerque</td>\n",
       "      <td>2023-06-02</td>\n",
       "      <td>27.9</td>\n",
       "      <td>12.6</td>\n",
       "      <td>0.0</td>\n",
       "      <td>0.00</td>\n",
       "      <td>0.00</td>\n",
       "      <td>0.0</td>\n",
       "      <td>35.9</td>\n",
       "      <td>38.2</td>\n",
       "      <td>222</td>\n",
       "    </tr>\n",
       "    <tr>\n",
       "      <th>1</th>\n",
       "      <td>Albuquerque</td>\n",
       "      <td>2023-06-03</td>\n",
       "      <td>29.1</td>\n",
       "      <td>11.1</td>\n",
       "      <td>11.9</td>\n",
       "      <td>11.66</td>\n",
       "      <td>0.17</td>\n",
       "      <td>1.0</td>\n",
       "      <td>41.0</td>\n",
       "      <td>61.2</td>\n",
       "      <td>280</td>\n",
       "    </tr>\n",
       "    <tr>\n",
       "      <th>2</th>\n",
       "      <td>Albuquerque</td>\n",
       "      <td>2023-06-04</td>\n",
       "      <td>28.8</td>\n",
       "      <td>15.6</td>\n",
       "      <td>0.0</td>\n",
       "      <td>0.00</td>\n",
       "      <td>0.00</td>\n",
       "      <td>0.0</td>\n",
       "      <td>21.3</td>\n",
       "      <td>34.6</td>\n",
       "      <td>131</td>\n",
       "    </tr>\n",
       "    <tr>\n",
       "      <th>3</th>\n",
       "      <td>Albuquerque</td>\n",
       "      <td>2023-06-05</td>\n",
       "      <td>29.4</td>\n",
       "      <td>16.0</td>\n",
       "      <td>0.4</td>\n",
       "      <td>0.20</td>\n",
       "      <td>0.00</td>\n",
       "      <td>2.0</td>\n",
       "      <td>35.0</td>\n",
       "      <td>42.1</td>\n",
       "      <td>110</td>\n",
       "    </tr>\n",
       "    <tr>\n",
       "      <th>4</th>\n",
       "      <td>Albuquerque</td>\n",
       "      <td>2023-06-06</td>\n",
       "      <td>29.9</td>\n",
       "      <td>16.5</td>\n",
       "      <td>0.2</td>\n",
       "      <td>0.10</td>\n",
       "      <td>0.00</td>\n",
       "      <td>2.0</td>\n",
       "      <td>40.7</td>\n",
       "      <td>44.6</td>\n",
       "      <td>119</td>\n",
       "    </tr>\n",
       "    <tr>\n",
       "      <th>...</th>\n",
       "      <td>...</td>\n",
       "      <td>...</td>\n",
       "      <td>...</td>\n",
       "      <td>...</td>\n",
       "      <td>...</td>\n",
       "      <td>...</td>\n",
       "      <td>...</td>\n",
       "      <td>...</td>\n",
       "      <td>...</td>\n",
       "      <td>...</td>\n",
       "      <td>...</td>\n",
       "    </tr>\n",
       "    <tr>\n",
       "      <th>459</th>\n",
       "      <td>Tulalip-Totem Beach Rd</td>\n",
       "      <td>2023-06-05</td>\n",
       "      <td>15.7</td>\n",
       "      <td>6.3</td>\n",
       "      <td>0.0</td>\n",
       "      <td>0.00</td>\n",
       "      <td>0.00</td>\n",
       "      <td>0.0</td>\n",
       "      <td>27.5</td>\n",
       "      <td>44.6</td>\n",
       "      <td>310</td>\n",
       "    </tr>\n",
       "    <tr>\n",
       "      <th>460</th>\n",
       "      <td>Tulalip-Totem Beach Rd</td>\n",
       "      <td>2023-06-06</td>\n",
       "      <td>17.6</td>\n",
       "      <td>8.9</td>\n",
       "      <td>0.0</td>\n",
       "      <td>0.00</td>\n",
       "      <td>0.00</td>\n",
       "      <td>0.0</td>\n",
       "      <td>17.7</td>\n",
       "      <td>33.5</td>\n",
       "      <td>323</td>\n",
       "    </tr>\n",
       "    <tr>\n",
       "      <th>461</th>\n",
       "      <td>Tulalip-Totem Beach Rd</td>\n",
       "      <td>2023-06-07</td>\n",
       "      <td>18.1</td>\n",
       "      <td>8.9</td>\n",
       "      <td>0.0</td>\n",
       "      <td>0.00</td>\n",
       "      <td>0.00</td>\n",
       "      <td>0.0</td>\n",
       "      <td>17.8</td>\n",
       "      <td>27.4</td>\n",
       "      <td>315</td>\n",
       "    </tr>\n",
       "    <tr>\n",
       "      <th>462</th>\n",
       "      <td>Tulalip-Totem Beach Rd</td>\n",
       "      <td>2023-06-08</td>\n",
       "      <td>19.7</td>\n",
       "      <td>9.5</td>\n",
       "      <td>0.0</td>\n",
       "      <td>0.00</td>\n",
       "      <td>0.00</td>\n",
       "      <td>0.0</td>\n",
       "      <td>13.3</td>\n",
       "      <td>33.8</td>\n",
       "      <td>335</td>\n",
       "    </tr>\n",
       "    <tr>\n",
       "      <th>463</th>\n",
       "      <td>Tulalip-Totem Beach Rd</td>\n",
       "      <td>2023-06-09</td>\n",
       "      <td>18.7</td>\n",
       "      <td>9.7</td>\n",
       "      <td>0.0</td>\n",
       "      <td>0.00</td>\n",
       "      <td>0.00</td>\n",
       "      <td>0.0</td>\n",
       "      <td>16.7</td>\n",
       "      <td>30.2</td>\n",
       "      <td>315</td>\n",
       "    </tr>\n",
       "  </tbody>\n",
       "</table>\n",
       "<p>464 rows × 11 columns</p>\n",
       "</div>"
      ],
      "text/plain": [
       "                  city_name       date  temperature_max  temperature_min  \\\n",
       "0               Albuquerque 2023-06-02             27.9             12.6   \n",
       "1               Albuquerque 2023-06-03             29.1             11.1   \n",
       "2               Albuquerque 2023-06-04             28.8             15.6   \n",
       "3               Albuquerque 2023-06-05             29.4             16.0   \n",
       "4               Albuquerque 2023-06-06             29.9             16.5   \n",
       "..                      ...        ...              ...              ...   \n",
       "459  Tulalip-Totem Beach Rd 2023-06-05             15.7              6.3   \n",
       "460  Tulalip-Totem Beach Rd 2023-06-06             17.6              8.9   \n",
       "461  Tulalip-Totem Beach Rd 2023-06-07             18.1              8.9   \n",
       "462  Tulalip-Totem Beach Rd 2023-06-08             19.7              9.5   \n",
       "463  Tulalip-Totem Beach Rd 2023-06-09             18.7              9.7   \n",
       "\n",
       "     precipitation_sum  rain_sum  snowfall_sum  precipitation_hours  \\\n",
       "0                  0.0      0.00          0.00                  0.0   \n",
       "1                 11.9     11.66          0.17                  1.0   \n",
       "2                  0.0      0.00          0.00                  0.0   \n",
       "3                  0.4      0.20          0.00                  2.0   \n",
       "4                  0.2      0.10          0.00                  2.0   \n",
       "..                 ...       ...           ...                  ...   \n",
       "459                0.0      0.00          0.00                  0.0   \n",
       "460                0.0      0.00          0.00                  0.0   \n",
       "461                0.0      0.00          0.00                  0.0   \n",
       "462                0.0      0.00          0.00                  0.0   \n",
       "463                0.0      0.00          0.00                  0.0   \n",
       "\n",
       "     wind_speed_max  wind_gusts_max  wind_direction_dominant  \n",
       "0              35.9            38.2                      222  \n",
       "1              41.0            61.2                      280  \n",
       "2              21.3            34.6                      131  \n",
       "3              35.0            42.1                      110  \n",
       "4              40.7            44.6                      119  \n",
       "..              ...             ...                      ...  \n",
       "459            27.5            44.6                      310  \n",
       "460            17.7            33.5                      323  \n",
       "461            17.8            27.4                      315  \n",
       "462            13.3            33.8                      335  \n",
       "463            16.7            30.2                      315  \n",
       "\n",
       "[464 rows x 11 columns]"
      ]
     },
     "execution_count": 14,
     "metadata": {},
     "output_type": "execute_result"
    }
   ],
   "source": [
    "df_weather_update"
   ]
  },
  {
   "cell_type": "code",
   "execution_count": 15,
   "id": "a7bff400-a2fb-48a3-a07b-5bd2a0469cd7",
   "metadata": {
    "tags": []
   },
   "outputs": [],
   "source": [
    "df_aq_update.date = pd.to_datetime(df_aq_update.date)\n",
    "df_weather_update.date = pd.to_datetime(df_weather_update.date)\n",
    "\n",
    "df_aq_update[\"unix_time\"] = df_aq_update[\"date\"].apply(convert_date_to_unix)\n",
    "df_weather_update[\"unix_time\"] = df_weather_update[\"date\"].apply(convert_date_to_unix)"
   ]
  },
  {
   "cell_type": "code",
   "execution_count": 16,
   "id": "11752b30-2f40-4668-9813-2a90199c62b8",
   "metadata": {
    "tags": []
   },
   "outputs": [],
   "source": [
    "df_aq_update.date = df_aq_update.date.astype(str)\n",
    "df_weather_update.date = df_weather_update.date.astype(str)"
   ]
  },
  {
   "attachments": {},
   "cell_type": "markdown",
   "id": "792dd383",
   "metadata": {},
   "source": [
    "---"
   ]
  },
  {
   "attachments": {},
   "cell_type": "markdown",
   "id": "5aef353d",
   "metadata": {
    "tags": []
   },
   "source": [
    "## <span style=\"color:#ff5f27;\">⬆️ Uploading new data to the Feature Store</span>"
   ]
  },
  {
   "attachments": {},
   "cell_type": "markdown",
   "id": "b59f3599-f336-41ff-a500-5dd2951ce136",
   "metadata": {},
   "source": [
    "### <span style=\"color:#ff5f27;\"> 🔮 Connecting to Hopsworks Feature Store </span>"
   ]
  },
  {
   "cell_type": "code",
   "execution_count": 17,
   "id": "4530f803",
   "metadata": {},
   "outputs": [
    {
     "name": "stdout",
     "output_type": "stream",
     "text": [
      "Connected. Call `.close()` to terminate connection gracefully.\n"
     ]
    },
    {
     "name": "stderr",
     "output_type": "stream",
     "text": [
      "\n",
      "\n"
     ]
    },
    {
     "name": "stdout",
     "output_type": "stream",
     "text": [
      "\n",
      "Logged in to project, explore it here https://c.app.hopsworks.ai:443/p/52403\n",
      "Connected. Call `.close()` to terminate connection gracefully.\n"
     ]
    }
   ],
   "source": [
    "import hopsworks\n",
    "\n",
    "\n",
    "project = hopsworks.login()\n",
    "fs = project.get_feature_store() \n",
    "\n",
    "air_quality_fg = fs.get_or_create_feature_group(\n",
    "    name = 'air_quality',\n",
    "    version = 1\n",
    ")\n",
    "weather_fg = fs.get_or_create_feature_group(\n",
    "    name = 'weather',\n",
    "    version = 1\n",
    ")"
   ]
  },
  {
   "cell_type": "code",
   "execution_count": 18,
   "id": "f81bb922",
   "metadata": {},
   "outputs": [
    {
     "name": "stdout",
     "output_type": "stream",
     "text": [
      "2023-06-02 09:44:42,069 INFO: \t1 expectation(s) included in expectation_suite.\n",
      "Validation failed.\n",
      "Validation Report saved successfully, explore a summary at https://c.app.hopsworks.ai:443/p/52403/fs/51299/fg/54909\n"
     ]
    },
    {
     "data": {
      "application/vnd.jupyter.widget-view+json": {
       "model_id": "1c2810ca740e4bcf81409ef05f649aad",
       "version_major": 2,
       "version_minor": 0
      },
      "text/plain": [
       "Uploading Dataframe: 0.00% |          | Rows 0/495 | Elapsed Time: 00:00 | Remaining Time: ?"
      ]
     },
     "metadata": {},
     "output_type": "display_data"
    },
    {
     "name": "stdout",
     "output_type": "stream",
     "text": [
      "Launching job: air_quality_1_offline_fg_backfill\n",
      "Job started successfully, you can follow the progress at \n",
      "https://c.app.hopsworks.ai/p/52403/jobs/named/air_quality_1_offline_fg_backfill/executions\n"
     ]
    },
    {
     "data": {
      "text/plain": [
       "(<hsfs.core.job.Job at 0x7f8f31b338b0>,\n",
       " {\n",
       "   \"success\": false,\n",
       "   \"evaluation_parameters\": {},\n",
       "   \"results\": [\n",
       "     {\n",
       "       \"success\": false,\n",
       "       \"result\": {},\n",
       "       \"exception_info\": {\n",
       "         \"user_message\": \"exception_info field exceeded max available space in SQL table, download validation report file to access the complete info.\",\n",
       "         \"raised_exception\": true,\n",
       "         \"exception_message\": \"TypeError: Column values, min_value, and max_value must either be None or of the same type.\"\n",
       "       },\n",
       "       \"expectation_config\": {\n",
       "         \"kwargs\": {\n",
       "           \"column\": \"pm2_5\",\n",
       "           \"min_value\": \"0.5\",\n",
       "           \"max_value\": \"1000.0\"\n",
       "         },\n",
       "         \"expectation_type\": \"expect_column_values_to_be_between\",\n",
       "         \"meta\": {\n",
       "           \"expectationId\": 47115\n",
       "         }\n",
       "       },\n",
       "       \"meta\": {}\n",
       "     }\n",
       "   ],\n",
       "   \"statistics\": {\n",
       "     \"evaluated_expectations\": 1,\n",
       "     \"successful_expectations\": 0,\n",
       "     \"unsuccessful_expectations\": 1,\n",
       "     \"success_percent\": 0.0\n",
       "   },\n",
       "   \"meta\": {\n",
       "     \"great_expectations_version\": \"0.14.12\",\n",
       "     \"expectation_suite_name\": \"pmi_data\",\n",
       "     \"run_id\": {\n",
       "       \"run_time\": \"2023-06-02T08:44:42.069618+00:00\",\n",
       "       \"run_name\": null\n",
       "     },\n",
       "     \"batch_kwargs\": {\n",
       "       \"ge_batch_id\": \"b7963f42-0121-11ee-86fc-00155d3208f1\"\n",
       "     },\n",
       "     \"batch_markers\": {},\n",
       "     \"batch_parameters\": {},\n",
       "     \"validation_time\": \"20230602T084442.069490Z\",\n",
       "     \"expectation_suite_meta\": {\n",
       "       \"great_expectations_version\": \"0.14.12\"\n",
       "     }\n",
       "   }\n",
       " })"
      ]
     },
     "execution_count": 18,
     "metadata": {},
     "output_type": "execute_result"
    }
   ],
   "source": [
    "air_quality_fg.insert(df_aq_update, write_options={\"wait_for_job\": False})"
   ]
  },
  {
   "cell_type": "code",
   "execution_count": 19,
   "id": "be0c498e",
   "metadata": {},
   "outputs": [
    {
     "data": {
      "application/vnd.jupyter.widget-view+json": {
       "model_id": "0df1ab5c473e4e958f3b9d0beb09694a",
       "version_major": 2,
       "version_minor": 0
      },
      "text/plain": [
       "Uploading Dataframe: 0.00% |          | Rows 0/464 | Elapsed Time: 00:00 | Remaining Time: ?"
      ]
     },
     "metadata": {},
     "output_type": "display_data"
    },
    {
     "name": "stdout",
     "output_type": "stream",
     "text": [
      "Launching job: weather_1_offline_fg_backfill\n",
      "Job started successfully, you can follow the progress at \n",
      "https://c.app.hopsworks.ai/p/52403/jobs/named/weather_1_offline_fg_backfill/executions\n"
     ]
    },
    {
     "data": {
      "text/plain": [
       "(<hsfs.core.job.Job at 0x7f8f3014cb50>, None)"
      ]
     },
     "execution_count": 19,
     "metadata": {},
     "output_type": "execute_result"
    }
   ],
   "source": [
    "weather_fg.insert(df_weather_update, write_options={\"wait_for_job\": False})"
   ]
  },
  {
   "cell_type": "code",
   "execution_count": null,
   "id": "6594fdbb",
   "metadata": {},
   "outputs": [],
   "source": []
  }
 ],
 "metadata": {
  "kernelspec": {
   "display_name": "Python 3 (ipykernel)",
   "language": "python",
   "name": "python3"
  },
  "language_info": {
   "codemirror_mode": {
    "name": "ipython",
    "version": 3
   },
   "file_extension": ".py",
   "mimetype": "text/x-python",
   "name": "python",
   "nbconvert_exporter": "python",
   "pygments_lexer": "ipython3",
   "version": "3.10.9"
  },
  "vscode": {
   "interpreter": {
    "hash": "190ea7959a836f4799545ea0f3718ade3abee093b15861ffdc25233d6ab7050e"
   }
  }
 },
 "nbformat": 4,
 "nbformat_minor": 5
}
